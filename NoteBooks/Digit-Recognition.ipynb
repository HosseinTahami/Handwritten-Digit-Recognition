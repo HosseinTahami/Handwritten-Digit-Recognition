{
 "cells": [
  {
   "cell_type": "code",
   "execution_count": 7,
   "metadata": {},
   "outputs": [],
   "source": [
    "import numpy as np\n",
    "# import matplotlib.pyplot as plt"
   ]
  },
  {
   "cell_type": "code",
   "execution_count": 29,
   "metadata": {},
   "outputs": [],
   "source": [
    "from tensorflow.keras.datasets import mnist\n",
    "from tensorflow.keras.models import Sequential, load_model\n",
    "from tensorflow.keras.layers import (\n",
    "    Conv2D,\n",
    "    MaxPooling2D,\n",
    "    Flatten,\n",
    "    Dense,\n",
    ")\n",
    "from tensorflow.keras.utils import to_categorical\n",
    "from tensorflow.keras.callbacks import History"
   ]
  },
  {
   "cell_type": "code",
   "execution_count": 4,
   "metadata": {},
   "outputs": [
    {
     "name": "stdout",
     "output_type": "stream",
     "text": [
      "Downloading data from https://storage.googleapis.com/tensorflow/tf-keras-datasets/mnist.npz\n",
      "11490434/11490434 [==============================] - 31s 3us/step\n"
     ]
    }
   ],
   "source": [
    "dataset = mnist.load_data()"
   ]
  },
  {
   "cell_type": "code",
   "execution_count": 5,
   "metadata": {},
   "outputs": [],
   "source": [
    "(x_train, y_train), (x_test, y_test) = dataset"
   ]
  },
  {
   "cell_type": "code",
   "execution_count": 8,
   "metadata": {},
   "outputs": [],
   "source": [
    "x_train = np.expand_dims(x_train, axis=-1)\n",
    "x_test = np.expand_dims(x_test, axis=-1)"
   ]
  },
  {
   "cell_type": "code",
   "execution_count": 9,
   "metadata": {},
   "outputs": [],
   "source": [
    "x_train = x_train.astype('float32') / 255.0\n",
    "x_test = x_test.astype('float32') / 255.0"
   ]
  },
  {
   "cell_type": "code",
   "execution_count": 10,
   "metadata": {},
   "outputs": [],
   "source": [
    "y_train = to_categorical(y_train, 10)\n",
    "y_test = to_categorical(y_test, 10)"
   ]
  },
  {
   "cell_type": "code",
   "execution_count": 11,
   "metadata": {},
   "outputs": [],
   "source": [
    "model = Sequential([\n",
    "\n",
    "    Conv2D(32, (3, 3), activation='relu', input_shape=(28, 28, 1)),\n",
    "    MaxPooling2D((2, 2)),\n",
    "\n",
    "    Conv2D(64, (3, 3), activation='relu'),\n",
    "    MaxPooling2D((2, 2)),\n",
    "\n",
    "    Flatten(),\n",
    "\n",
    "    Dense(128, activation='relu'),\n",
    "    Dense(10, activation='softmax')  \n",
    "])"
   ]
  },
  {
   "cell_type": "code",
   "execution_count": 12,
   "metadata": {},
   "outputs": [
    {
     "name": "stdout",
     "output_type": "stream",
     "text": [
      "Model: \"sequential\"\n",
      "_________________________________________________________________\n",
      " Layer (type)                Output Shape              Param #   \n",
      "=================================================================\n",
      " conv2d (Conv2D)             (None, 26, 26, 32)        320       \n",
      "                                                                 \n",
      " max_pooling2d (MaxPooling2D  (None, 13, 13, 32)       0         \n",
      " )                                                               \n",
      "                                                                 \n",
      " conv2d_1 (Conv2D)           (None, 11, 11, 64)        18496     \n",
      "                                                                 \n",
      " max_pooling2d_1 (MaxPooling  (None, 5, 5, 64)         0         \n",
      " 2D)                                                             \n",
      "                                                                 \n",
      " flatten (Flatten)           (None, 1600)              0         \n",
      "                                                                 \n",
      " dense (Dense)               (None, 128)               204928    \n",
      "                                                                 \n",
      " dense_1 (Dense)             (None, 10)                1290      \n",
      "                                                                 \n",
      "=================================================================\n",
      "Total params: 225,034\n",
      "Trainable params: 225,034\n",
      "Non-trainable params: 0\n",
      "_________________________________________________________________\n"
     ]
    }
   ],
   "source": [
    "model.summary()"
   ]
  },
  {
   "cell_type": "code",
   "execution_count": 13,
   "metadata": {},
   "outputs": [],
   "source": [
    "model.compile(optimizer='adam',\n",
    "              loss='categorical_crossentropy',\n",
    "              metrics=['accuracy'])"
   ]
  },
  {
   "cell_type": "code",
   "execution_count": 19,
   "metadata": {},
   "outputs": [
    {
     "name": "stdout",
     "output_type": "stream",
     "text": [
      "Epoch 1/100\n",
      "938/938 [==============================] - 12s 13ms/step - loss: 0.0143 - accuracy: 0.9956 - val_loss: 0.0249 - val_accuracy: 0.9922\n",
      "Epoch 2/100\n",
      "938/938 [==============================] - 13s 14ms/step - loss: 0.0107 - accuracy: 0.9966 - val_loss: 0.0361 - val_accuracy: 0.9888\n",
      "Epoch 3/100\n",
      "938/938 [==============================] - 16s 17ms/step - loss: 0.0084 - accuracy: 0.9971 - val_loss: 0.0337 - val_accuracy: 0.9897\n",
      "Epoch 4/100\n",
      "938/938 [==============================] - 16s 17ms/step - loss: 0.0089 - accuracy: 0.9971 - val_loss: 0.0333 - val_accuracy: 0.9914\n",
      "Epoch 5/100\n",
      "938/938 [==============================] - 17s 18ms/step - loss: 0.0053 - accuracy: 0.9982 - val_loss: 0.0291 - val_accuracy: 0.9910\n",
      "Epoch 6/100\n",
      "938/938 [==============================] - 17s 18ms/step - loss: 0.0061 - accuracy: 0.9980 - val_loss: 0.0319 - val_accuracy: 0.9913\n",
      "Epoch 7/100\n",
      "938/938 [==============================] - 18s 19ms/step - loss: 0.0053 - accuracy: 0.9981 - val_loss: 0.0407 - val_accuracy: 0.9903\n",
      "Epoch 8/100\n",
      "938/938 [==============================] - 17s 18ms/step - loss: 0.0046 - accuracy: 0.9985 - val_loss: 0.0314 - val_accuracy: 0.9927\n",
      "Epoch 9/100\n",
      "938/938 [==============================] - 16s 17ms/step - loss: 0.0028 - accuracy: 0.9992 - val_loss: 0.0305 - val_accuracy: 0.9925\n",
      "Epoch 10/100\n",
      "938/938 [==============================] - 16s 18ms/step - loss: 0.0046 - accuracy: 0.9983 - val_loss: 0.0337 - val_accuracy: 0.9923\n",
      "Epoch 11/100\n",
      "938/938 [==============================] - 16s 17ms/step - loss: 0.0037 - accuracy: 0.9987 - val_loss: 0.0349 - val_accuracy: 0.9910\n",
      "Epoch 12/100\n",
      "938/938 [==============================] - 16s 17ms/step - loss: 0.0040 - accuracy: 0.9987 - val_loss: 0.0409 - val_accuracy: 0.9904\n",
      "Epoch 13/100\n",
      "938/938 [==============================] - 16s 17ms/step - loss: 0.0032 - accuracy: 0.9987 - val_loss: 0.0415 - val_accuracy: 0.9923\n",
      "Epoch 14/100\n",
      "938/938 [==============================] - 17s 19ms/step - loss: 0.0028 - accuracy: 0.9992 - val_loss: 0.0355 - val_accuracy: 0.9920\n",
      "Epoch 15/100\n",
      "938/938 [==============================] - 16s 17ms/step - loss: 0.0025 - accuracy: 0.9992 - val_loss: 0.0392 - val_accuracy: 0.9920\n",
      "Epoch 16/100\n",
      "938/938 [==============================] - 16s 18ms/step - loss: 0.0025 - accuracy: 0.9992 - val_loss: 0.0740 - val_accuracy: 0.9885\n",
      "Epoch 17/100\n",
      "938/938 [==============================] - 17s 18ms/step - loss: 0.0034 - accuracy: 0.9989 - val_loss: 0.0349 - val_accuracy: 0.9924\n",
      "Epoch 18/100\n",
      "938/938 [==============================] - 17s 18ms/step - loss: 0.0017 - accuracy: 0.9995 - val_loss: 0.0483 - val_accuracy: 0.9907\n",
      "Epoch 19/100\n",
      "938/938 [==============================] - 17s 18ms/step - loss: 0.0023 - accuracy: 0.9993 - val_loss: 0.0405 - val_accuracy: 0.9917\n",
      "Epoch 20/100\n",
      "938/938 [==============================] - 16s 17ms/step - loss: 0.0027 - accuracy: 0.9992 - val_loss: 0.0532 - val_accuracy: 0.9916\n",
      "Epoch 21/100\n",
      "938/938 [==============================] - 14s 15ms/step - loss: 0.0025 - accuracy: 0.9993 - val_loss: 0.0447 - val_accuracy: 0.9926\n",
      "Epoch 22/100\n",
      "938/938 [==============================] - 15s 16ms/step - loss: 5.2366e-04 - accuracy: 0.9998 - val_loss: 0.0510 - val_accuracy: 0.9915\n",
      "Epoch 23/100\n",
      "938/938 [==============================] - 14s 15ms/step - loss: 0.0035 - accuracy: 0.9990 - val_loss: 0.0440 - val_accuracy: 0.9916\n",
      "Epoch 24/100\n",
      "938/938 [==============================] - 15s 16ms/step - loss: 0.0025 - accuracy: 0.9993 - val_loss: 0.0434 - val_accuracy: 0.9920\n",
      "Epoch 25/100\n",
      "938/938 [==============================] - 15s 16ms/step - loss: 0.0018 - accuracy: 0.9996 - val_loss: 0.0400 - val_accuracy: 0.9937\n",
      "Epoch 26/100\n",
      "938/938 [==============================] - 15s 16ms/step - loss: 0.0019 - accuracy: 0.9993 - val_loss: 0.0470 - val_accuracy: 0.9938\n",
      "Epoch 27/100\n",
      "938/938 [==============================] - 15s 16ms/step - loss: 6.1421e-04 - accuracy: 0.9998 - val_loss: 0.0527 - val_accuracy: 0.9928\n",
      "Epoch 28/100\n",
      "938/938 [==============================] - 15s 16ms/step - loss: 0.0032 - accuracy: 0.9991 - val_loss: 0.0394 - val_accuracy: 0.9924\n",
      "Epoch 29/100\n",
      "938/938 [==============================] - 15s 16ms/step - loss: 6.2981e-04 - accuracy: 0.9998 - val_loss: 0.0380 - val_accuracy: 0.9938\n",
      "Epoch 30/100\n",
      "938/938 [==============================] - 15s 16ms/step - loss: 0.0013 - accuracy: 0.9996 - val_loss: 0.0522 - val_accuracy: 0.9911\n",
      "Epoch 31/100\n",
      "938/938 [==============================] - 15s 16ms/step - loss: 0.0040 - accuracy: 0.9990 - val_loss: 0.0449 - val_accuracy: 0.9931\n",
      "Epoch 32/100\n",
      "938/938 [==============================] - 14s 15ms/step - loss: 0.0012 - accuracy: 0.9995 - val_loss: 0.0469 - val_accuracy: 0.9931\n",
      "Epoch 33/100\n",
      "938/938 [==============================] - 15s 16ms/step - loss: 4.6798e-04 - accuracy: 0.9998 - val_loss: 0.0434 - val_accuracy: 0.9933\n",
      "Epoch 34/100\n",
      "938/938 [==============================] - 15s 16ms/step - loss: 0.0024 - accuracy: 0.9993 - val_loss: 0.0542 - val_accuracy: 0.9914\n",
      "Epoch 35/100\n",
      "938/938 [==============================] - 16s 17ms/step - loss: 0.0029 - accuracy: 0.9990 - val_loss: 0.0571 - val_accuracy: 0.9918\n",
      "Epoch 36/100\n",
      "938/938 [==============================] - 15s 16ms/step - loss: 0.0020 - accuracy: 0.9994 - val_loss: 0.0520 - val_accuracy: 0.9929\n",
      "Epoch 37/100\n",
      "938/938 [==============================] - 15s 16ms/step - loss: 1.0995e-04 - accuracy: 1.0000 - val_loss: 0.0580 - val_accuracy: 0.9923\n",
      "Epoch 38/100\n",
      "938/938 [==============================] - 15s 16ms/step - loss: 1.4330e-05 - accuracy: 1.0000 - val_loss: 0.0551 - val_accuracy: 0.9929\n",
      "Epoch 39/100\n",
      "938/938 [==============================] - 17s 18ms/step - loss: 2.9746e-06 - accuracy: 1.0000 - val_loss: 0.0546 - val_accuracy: 0.9930\n",
      "Epoch 40/100\n",
      "938/938 [==============================] - 17s 18ms/step - loss: 1.4697e-06 - accuracy: 1.0000 - val_loss: 0.0550 - val_accuracy: 0.9932\n",
      "Epoch 41/100\n",
      "938/938 [==============================] - 17s 18ms/step - loss: 1.0361e-06 - accuracy: 1.0000 - val_loss: 0.0554 - val_accuracy: 0.9933\n",
      "Epoch 42/100\n",
      "938/938 [==============================] - 17s 18ms/step - loss: 7.5112e-07 - accuracy: 1.0000 - val_loss: 0.0555 - val_accuracy: 0.9933\n",
      "Epoch 43/100\n",
      "938/938 [==============================] - 17s 18ms/step - loss: 5.3077e-07 - accuracy: 1.0000 - val_loss: 0.0562 - val_accuracy: 0.9933\n",
      "Epoch 44/100\n",
      "938/938 [==============================] - 17s 18ms/step - loss: 3.7087e-07 - accuracy: 1.0000 - val_loss: 0.0567 - val_accuracy: 0.9933\n",
      "Epoch 45/100\n",
      "938/938 [==============================] - 17s 18ms/step - loss: 2.5288e-07 - accuracy: 1.0000 - val_loss: 0.0571 - val_accuracy: 0.9933\n",
      "Epoch 46/100\n",
      "938/938 [==============================] - 17s 18ms/step - loss: 1.7529e-07 - accuracy: 1.0000 - val_loss: 0.0581 - val_accuracy: 0.9934\n",
      "Epoch 47/100\n",
      "938/938 [==============================] - 17s 18ms/step - loss: 1.1238e-07 - accuracy: 1.0000 - val_loss: 0.0585 - val_accuracy: 0.9935\n",
      "Epoch 48/100\n",
      "938/938 [==============================] - 18s 19ms/step - loss: 7.4312e-08 - accuracy: 1.0000 - val_loss: 0.0598 - val_accuracy: 0.9935\n",
      "Epoch 49/100\n",
      "938/938 [==============================] - 17s 18ms/step - loss: 4.9968e-08 - accuracy: 1.0000 - val_loss: 0.0604 - val_accuracy: 0.9934\n",
      "Epoch 50/100\n",
      "938/938 [==============================] - 18s 19ms/step - loss: 3.2087e-08 - accuracy: 1.0000 - val_loss: 0.0615 - val_accuracy: 0.9934\n",
      "Epoch 51/100\n",
      "938/938 [==============================] - 15s 16ms/step - loss: 2.1235e-08 - accuracy: 1.0000 - val_loss: 0.0627 - val_accuracy: 0.9933\n",
      "Epoch 52/100\n",
      "938/938 [==============================] - 15s 16ms/step - loss: 1.3747e-08 - accuracy: 1.0000 - val_loss: 0.0635 - val_accuracy: 0.9935\n",
      "Epoch 53/100\n",
      "938/938 [==============================] - 16s 17ms/step - loss: 9.4116e-09 - accuracy: 1.0000 - val_loss: 0.0645 - val_accuracy: 0.9934\n",
      "Epoch 54/100\n",
      "938/938 [==============================] - 16s 17ms/step - loss: 6.2148e-09 - accuracy: 1.0000 - val_loss: 0.0660 - val_accuracy: 0.9935\n",
      "Epoch 55/100\n",
      "938/938 [==============================] - 16s 17ms/step - loss: 4.1842e-09 - accuracy: 1.0000 - val_loss: 0.0667 - val_accuracy: 0.9935\n",
      "Epoch 56/100\n",
      "938/938 [==============================] - 16s 17ms/step - loss: 2.9465e-09 - accuracy: 1.0000 - val_loss: 0.0679 - val_accuracy: 0.9935\n",
      "Epoch 57/100\n",
      "938/938 [==============================] - 16s 17ms/step - loss: 2.1140e-09 - accuracy: 1.0000 - val_loss: 0.0691 - val_accuracy: 0.9934\n",
      "Epoch 58/100\n",
      "938/938 [==============================] - 17s 18ms/step - loss: 1.4861e-09 - accuracy: 1.0000 - val_loss: 0.0699 - val_accuracy: 0.9934\n",
      "Epoch 59/100\n",
      "938/938 [==============================] - 17s 18ms/step - loss: 1.0888e-09 - accuracy: 1.0000 - val_loss: 0.0708 - val_accuracy: 0.9934\n",
      "Epoch 60/100\n",
      "938/938 [==============================] - 17s 18ms/step - loss: 8.2056e-10 - accuracy: 1.0000 - val_loss: 0.0712 - val_accuracy: 0.9935\n",
      "Epoch 61/100\n",
      "938/938 [==============================] - 17s 18ms/step - loss: 6.3777e-10 - accuracy: 1.0000 - val_loss: 0.0724 - val_accuracy: 0.9935\n",
      "Epoch 62/100\n",
      "938/938 [==============================] - 17s 18ms/step - loss: 4.6889e-10 - accuracy: 1.0000 - val_loss: 0.0727 - val_accuracy: 0.9935\n",
      "Epoch 63/100\n",
      "938/938 [==============================] - 17s 18ms/step - loss: 3.8942e-10 - accuracy: 1.0000 - val_loss: 0.0729 - val_accuracy: 0.9936\n",
      "Epoch 64/100\n",
      "938/938 [==============================] - 16s 17ms/step - loss: 3.3975e-10 - accuracy: 1.0000 - val_loss: 0.0735 - val_accuracy: 0.9936\n",
      "Epoch 65/100\n",
      "938/938 [==============================] - 16s 17ms/step - loss: 3.0200e-10 - accuracy: 1.0000 - val_loss: 0.0734 - val_accuracy: 0.9935\n",
      "Epoch 66/100\n",
      "938/938 [==============================] - 17s 18ms/step - loss: 2.4438e-10 - accuracy: 1.0000 - val_loss: 0.0737 - val_accuracy: 0.9936\n",
      "Epoch 67/100\n",
      "938/938 [==============================] - 17s 19ms/step - loss: 2.1855e-10 - accuracy: 1.0000 - val_loss: 0.0735 - val_accuracy: 0.9935\n",
      "Epoch 68/100\n",
      "938/938 [==============================] - 17s 18ms/step - loss: 1.8676e-10 - accuracy: 1.0000 - val_loss: 0.0740 - val_accuracy: 0.9936\n",
      "Epoch 69/100\n",
      "938/938 [==============================] - 17s 18ms/step - loss: 1.9073e-10 - accuracy: 1.0000 - val_loss: 0.0737 - val_accuracy: 0.9935\n",
      "Epoch 70/100\n",
      "938/938 [==============================] - 17s 18ms/step - loss: 1.6491e-10 - accuracy: 1.0000 - val_loss: 0.0735 - val_accuracy: 0.9935\n",
      "Epoch 71/100\n",
      "938/938 [==============================] - 17s 19ms/step - loss: 1.6491e-10 - accuracy: 1.0000 - val_loss: 0.0738 - val_accuracy: 0.9935\n",
      "Epoch 72/100\n",
      "938/938 [==============================] - 17s 19ms/step - loss: 1.4702e-10 - accuracy: 1.0000 - val_loss: 0.0738 - val_accuracy: 0.9935\n",
      "Epoch 73/100\n",
      "938/938 [==============================] - 17s 18ms/step - loss: 1.4901e-10 - accuracy: 1.0000 - val_loss: 0.0736 - val_accuracy: 0.9934\n",
      "Epoch 74/100\n",
      "938/938 [==============================] - 17s 19ms/step - loss: 1.4106e-10 - accuracy: 1.0000 - val_loss: 0.0736 - val_accuracy: 0.9934\n",
      "Epoch 75/100\n",
      "938/938 [==============================] - 17s 18ms/step - loss: 1.2914e-10 - accuracy: 1.0000 - val_loss: 0.0735 - val_accuracy: 0.9934\n",
      "Epoch 76/100\n",
      "938/938 [==============================] - 18s 19ms/step - loss: 1.2120e-10 - accuracy: 1.0000 - val_loss: 0.0733 - val_accuracy: 0.9937\n",
      "Epoch 77/100\n",
      "938/938 [==============================] - 18s 19ms/step - loss: 1.3312e-10 - accuracy: 1.0000 - val_loss: 0.0734 - val_accuracy: 0.9934\n",
      "Epoch 78/100\n",
      "938/938 [==============================] - 17s 18ms/step - loss: 1.2120e-10 - accuracy: 1.0000 - val_loss: 0.0733 - val_accuracy: 0.9934\n",
      "Epoch 79/100\n",
      "938/938 [==============================] - 17s 18ms/step - loss: 1.1325e-10 - accuracy: 1.0000 - val_loss: 0.0734 - val_accuracy: 0.9935\n",
      "Epoch 80/100\n",
      "938/938 [==============================] - 18s 19ms/step - loss: 1.3510e-10 - accuracy: 1.0000 - val_loss: 0.0734 - val_accuracy: 0.9935\n",
      "Epoch 81/100\n",
      "938/938 [==============================] - 18s 19ms/step - loss: 1.0928e-10 - accuracy: 1.0000 - val_loss: 0.0736 - val_accuracy: 0.9936\n",
      "Epoch 82/100\n",
      "938/938 [==============================] - 17s 18ms/step - loss: 1.2318e-10 - accuracy: 1.0000 - val_loss: 0.0733 - val_accuracy: 0.9935\n",
      "Epoch 83/100\n",
      "938/938 [==============================] - 17s 19ms/step - loss: 1.0133e-10 - accuracy: 1.0000 - val_loss: 0.0733 - val_accuracy: 0.9934\n",
      "Epoch 84/100\n",
      "938/938 [==============================] - 18s 19ms/step - loss: 9.5367e-11 - accuracy: 1.0000 - val_loss: 0.0730 - val_accuracy: 0.9934\n",
      "Epoch 85/100\n",
      "938/938 [==============================] - 18s 20ms/step - loss: 1.0729e-10 - accuracy: 1.0000 - val_loss: 0.0730 - val_accuracy: 0.9934\n",
      "Epoch 86/100\n",
      "938/938 [==============================] - 18s 19ms/step - loss: 9.9341e-11 - accuracy: 1.0000 - val_loss: 0.0730 - val_accuracy: 0.9934\n",
      "Epoch 87/100\n",
      "938/938 [==============================] - 19s 20ms/step - loss: 1.0729e-10 - accuracy: 1.0000 - val_loss: 0.0731 - val_accuracy: 0.9934\n",
      "Epoch 88/100\n",
      "938/938 [==============================] - 18s 19ms/step - loss: 9.7354e-11 - accuracy: 1.0000 - val_loss: 0.0730 - val_accuracy: 0.9934\n",
      "Epoch 89/100\n",
      "938/938 [==============================] - 17s 19ms/step - loss: 9.5367e-11 - accuracy: 1.0000 - val_loss: 0.0728 - val_accuracy: 0.9933\n",
      "Epoch 90/100\n",
      "938/938 [==============================] - 18s 19ms/step - loss: 8.9407e-11 - accuracy: 1.0000 - val_loss: 0.0729 - val_accuracy: 0.9932\n",
      "Epoch 91/100\n",
      "938/938 [==============================] - 17s 18ms/step - loss: 8.5433e-11 - accuracy: 1.0000 - val_loss: 0.0729 - val_accuracy: 0.9933\n",
      "Epoch 92/100\n",
      "938/938 [==============================] - 18s 19ms/step - loss: 9.1394e-11 - accuracy: 1.0000 - val_loss: 0.0729 - val_accuracy: 0.9933\n",
      "Epoch 93/100\n",
      "938/938 [==============================] - 17s 18ms/step - loss: 7.7486e-11 - accuracy: 1.0000 - val_loss: 0.0727 - val_accuracy: 0.9932\n",
      "Epoch 94/100\n",
      "938/938 [==============================] - 18s 19ms/step - loss: 8.1460e-11 - accuracy: 1.0000 - val_loss: 0.0728 - val_accuracy: 0.9932\n",
      "Epoch 95/100\n",
      "938/938 [==============================] - 17s 18ms/step - loss: 8.9407e-11 - accuracy: 1.0000 - val_loss: 0.0728 - val_accuracy: 0.9932\n",
      "Epoch 96/100\n",
      "938/938 [==============================] - 17s 19ms/step - loss: 7.3512e-11 - accuracy: 1.0000 - val_loss: 0.0729 - val_accuracy: 0.9933\n",
      "Epoch 97/100\n",
      "938/938 [==============================] - 17s 18ms/step - loss: 6.7552e-11 - accuracy: 1.0000 - val_loss: 0.0728 - val_accuracy: 0.9932\n",
      "Epoch 98/100\n",
      "938/938 [==============================] - 17s 18ms/step - loss: 7.9473e-11 - accuracy: 1.0000 - val_loss: 0.0729 - val_accuracy: 0.9932\n",
      "Epoch 99/100\n",
      "938/938 [==============================] - 17s 18ms/step - loss: 6.1591e-11 - accuracy: 1.0000 - val_loss: 0.0728 - val_accuracy: 0.9932\n",
      "Epoch 100/100\n",
      "938/938 [==============================] - 15s 16ms/step - loss: 6.5565e-11 - accuracy: 1.0000 - val_loss: 0.0729 - val_accuracy: 0.9933\n"
     ]
    },
    {
     "data": {
      "text/plain": [
       "<keras.callbacks.History at 0x1530e65afe0>"
      ]
     },
     "execution_count": 19,
     "metadata": {},
     "output_type": "execute_result"
    }
   ],
   "source": [
    "model.fit(x_train, y_train, epochs=100, batch_size=64, validation_data=(x_test, y_test))"
   ]
  },
  {
   "cell_type": "code",
   "execution_count": 20,
   "metadata": {},
   "outputs": [
    {
     "name": "stdout",
     "output_type": "stream",
     "text": [
      "313/313 [==============================] - 1s 3ms/step - loss: 0.0729 - accuracy: 0.9933\n",
      "Test accuracy: 99.33%\n"
     ]
    }
   ],
   "source": [
    "test_loss, test_acc = model.evaluate(x_test, y_test)\n",
    "print(f'Test accuracy: {test_acc * 100:.2f}%')"
   ]
  },
  {
   "cell_type": "code",
   "execution_count": 28,
   "metadata": {},
   "outputs": [
    {
     "name": "stdout",
     "output_type": "stream",
     "text": [
      "Model Saved !\n"
     ]
    }
   ],
   "source": [
    "# save model\n",
    "model.save('../models/gfgModel.h5')\n",
    "print('Model Saved !')"
   ]
  },
  {
   "cell_type": "code",
   "execution_count": 31,
   "metadata": {},
   "outputs": [
    {
     "name": "stdout",
     "output_type": "stream",
     "text": [
      "Model: \"sequential\"\n",
      "_________________________________________________________________\n",
      " Layer (type)                Output Shape              Param #   \n",
      "=================================================================\n",
      " conv2d (Conv2D)             (None, 26, 26, 32)        320       \n",
      "                                                                 \n",
      " max_pooling2d (MaxPooling2D  (None, 13, 13, 32)       0         \n",
      " )                                                               \n",
      "                                                                 \n",
      " conv2d_1 (Conv2D)           (None, 11, 11, 64)        18496     \n",
      "                                                                 \n",
      " max_pooling2d_1 (MaxPooling  (None, 5, 5, 64)         0         \n",
      " 2D)                                                             \n",
      "                                                                 \n",
      " flatten (Flatten)           (None, 1600)              0         \n",
      "                                                                 \n",
      " dense (Dense)               (None, 128)               204928    \n",
      "                                                                 \n",
      " dense_1 (Dense)             (None, 10)                1290      \n",
      "                                                                 \n",
      "=================================================================\n",
      "Total params: 225,034\n",
      "Trainable params: 225,034\n",
      "Non-trainable params: 0\n",
      "_________________________________________________________________\n"
     ]
    }
   ],
   "source": [
    "savedModel=load_model('../models/gfgModel.h5')\n",
    "savedModel.summary()"
   ]
  }
 ],
 "metadata": {
  "kernelspec": {
   "display_name": "Tensorflow-GPU",
   "language": "python",
   "name": "python3"
  },
  "language_info": {
   "codemirror_mode": {
    "name": "ipython",
    "version": 3
   },
   "file_extension": ".py",
   "mimetype": "text/x-python",
   "name": "python",
   "nbconvert_exporter": "python",
   "pygments_lexer": "ipython3",
   "version": "3.10.16"
  }
 },
 "nbformat": 4,
 "nbformat_minor": 2
}
